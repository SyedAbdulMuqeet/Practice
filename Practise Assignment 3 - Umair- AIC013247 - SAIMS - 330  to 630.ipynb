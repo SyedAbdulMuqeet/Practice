{
 "cells": [
  {
   "cell_type": "markdown",
   "metadata": {},
   "source": [
    "# Mir Umair Ali , Artificial Intelligence , SAIMS , 3:30-6:30 , ASSINGMENT 3"
   ]
  },
  {
   "cell_type": "markdown",
   "metadata": {},
   "source": [
    "# Q1:"
   ]
  },
  {
   "cell_type": "markdown",
   "metadata": {},
   "source": [
    "Think of at least three kinds of your favorite pizza. Store these pizza names in a list, and then use a for loop to print the name of each pizza."
   ]
  },
  {
   "cell_type": "code",
   "execution_count": 75,
   "metadata": {},
   "outputs": [
    {
     "name": "stdout",
     "output_type": "stream",
     "text": [
      "You have ordered following PIZZA flavours.\n",
      "Chicken Fajita\n",
      "Bihari Chicken\n",
      "Afghani Tikka\n"
     ]
    }
   ],
   "source": [
    "pizza = ['Chicken Fajita','Bihari Chicken','Afghani Tikka']\n",
    "print('You have ordered following PIZZA flavours.')\n",
    "for i in pizza:\n",
    "    print(i)"
   ]
  },
  {
   "cell_type": "markdown",
   "metadata": {},
   "source": [
    "# Q2"
   ]
  },
  {
   "cell_type": "markdown",
   "metadata": {},
   "source": [
    "Start with your last question , Modify your for loop to print a sentence using the name of the pizza\n",
    "instead of printing just the name of the pizza. For each pizza you should\n",
    "have one line of output containing a simple statement like I like pepperoni\n",
    "pizza."
   ]
  },
  {
   "cell_type": "code",
   "execution_count": 1,
   "metadata": {},
   "outputs": [
    {
     "name": "stdout",
     "output_type": "stream",
     "text": [
      "Your order is ready. Please enjoy these delicious and tasty PIZZA'S\n",
      "\n",
      "Chicken Fajita Pizza is very tasty\n",
      "Bihari Chicken Pizza is very tasty\n",
      "Afghani Tikka Pizza is very tasty\n"
     ]
    }
   ],
   "source": [
    "pizza = ['Chicken Fajita','Bihari Chicken','Afghani Tikka']\n",
    "print('Your order is ready. Please enjoy these delicious and tasty PIZZA\\'S\\n')\n",
    "for i in pizza:\n",
    "    print(i, 'Pizza is very tasty')\n",
    "        "
   ]
  },
  {
   "cell_type": "code",
   "execution_count": 1,
   "metadata": {},
   "outputs": [
    {
     "name": "stdout",
     "output_type": "stream",
     "text": [
      "Your order is ready. Please enjoy these delicious and tasty PIZZA'S\n",
      "\n",
      "Please don't forget give us your valuabe feedback after having your meal\n",
      "\n",
      "1 Chicken Fajita Pizza is very tasty\n",
      "2 Can I have extra topping for Chicken Fajita Pizza\n",
      "3 Chicken Fajita Pizza is very crispy and delicious. It is the best among all.\n"
     ]
    }
   ],
   "source": [
    "pizza = ['Chicken Fajita','Bihari Chicken','Afghani Tikka']\n",
    "print('Your order is ready. Please enjoy these delicious and tasty PIZZA\\'S\\n\\nPlease don\\'t forget give us your valuabe feedback after having your meal\\n')\n",
    "for i in range(1,4):\n",
    "    if i == 1:\n",
    "        print(f'{i} {pizza[0]} Pizza is very tasty')\n",
    "    elif i == 2:\n",
    "        print(f'{i} Can I have extra topping for {pizza[0]} Pizza')\n",
    "    else:\n",
    "        print(f'{i} {pizza[0]} Pizza is very crispy and delicious. It is the best among all.')"
   ]
  },
  {
   "cell_type": "markdown",
   "metadata": {},
   "source": [
    "# Q3:"
   ]
  },
  {
   "cell_type": "markdown",
   "metadata": {},
   "source": [
    "Use a for loop to print the numbers from 1 to 20,\n",
    "inclusive."
   ]
  },
  {
   "cell_type": "code",
   "execution_count": 2,
   "metadata": {},
   "outputs": [
    {
     "name": "stdout",
     "output_type": "stream",
     "text": [
      "1 2 3 4 5 6 7 8 9 10 11 12 13 14 15 16 17 18 19 20 "
     ]
    }
   ],
   "source": [
    "for j in range(1,21):\n",
    "    print(j, end=' ')"
   ]
  },
  {
   "cell_type": "markdown",
   "metadata": {},
   "source": [
    "# Q4:"
   ]
  },
  {
   "cell_type": "markdown",
   "metadata": {},
   "source": [
    "Use the third argument of the range() function to make a list\n",
    "of the odd numbers from 1 to 20. Use a for loop to print each number."
   ]
  },
  {
   "cell_type": "code",
   "execution_count": 28,
   "metadata": {},
   "outputs": [
    {
     "name": "stdout",
     "output_type": "stream",
     "text": [
      "[1, 3, 5, 7, 9, 11, 13, 15, 17, 19]\n",
      "1 3 5 7 9 11 13 15 17 19 "
     ]
    }
   ],
   "source": [
    "odd_num=[]\n",
    "\n",
    "for k in range(1,21,2):\n",
    "        odd_num.append(k)\n",
    "print(odd_num)\n",
    "\n",
    "for l in odd_num:\n",
    "    print(l, end=' ')"
   ]
  },
  {
   "cell_type": "markdown",
   "metadata": {},
   "source": [
    "# Q5:"
   ]
  },
  {
   "cell_type": "markdown",
   "metadata": {},
   "source": [
    "Make a list of the multiples of 3 from 3 to 30. Use a for loop to\n",
    "print the numbers in your list."
   ]
  },
  {
   "cell_type": "code",
   "execution_count": 29,
   "metadata": {},
   "outputs": [
    {
     "name": "stdout",
     "output_type": "stream",
     "text": [
      "[9, 12, 15, 18, 21, 24, 27, 30, 33, 36, 39, 42, 45, 48, 51, 54, 57, 60, 63, 66, 69, 72, 75, 78, 81, 84, 87, 90]\n"
     ]
    }
   ],
   "source": [
    "mul=[]\n",
    "for a in range(3,31):\n",
    "    z=a*3\n",
    "    mul.append(z)\n",
    "print(mul)"
   ]
  },
  {
   "cell_type": "markdown",
   "metadata": {},
   "source": [
    "# Q6:"
   ]
  },
  {
   "cell_type": "markdown",
   "metadata": {},
   "source": [
    "A number raised to the third power is called a cube. For example,\n",
    "the cube of 2 is written as 2**3 in Python. Make a list of the first 10 cubes (that\n",
    "is, the cube of each integer from 1 through 10), and use a for loop to print out\n",
    "the value of each cube"
   ]
  },
  {
   "cell_type": "code",
   "execution_count": 30,
   "metadata": {},
   "outputs": [
    {
     "name": "stdout",
     "output_type": "stream",
     "text": [
      "[1, 8, 27, 64, 125, 216, 343, 512, 729, 1000]\n"
     ]
    }
   ],
   "source": [
    "cube=[]\n",
    "\n",
    "for b in range(1,11):\n",
    "    x = b**3\n",
    "    cube.append(x)\n",
    "print(cube)"
   ]
  },
  {
   "cell_type": "markdown",
   "metadata": {},
   "source": [
    "# Q7:"
   ]
  },
  {
   "cell_type": "markdown",
   "metadata": {},
   "source": [
    "###### Make a python program that conatains your nine favourite dishes in a list called foods.\n",
    "\n",
    "###### Print the message, The first three items in the list are:. \n",
    "###### Then use a slice to print the first three items from that program’s list.\n",
    "\n",
    "###### Print the message, Three items from the middle of the list are:\n",
    "###### Use a slice to print three items from the middle of the list.\n",
    "\n",
    "###### Print the message, The last three items in the list are:\n",
    "###### Use a slice to print the last three items in the list."
   ]
  },
  {
   "cell_type": "code",
   "execution_count": 4,
   "metadata": {},
   "outputs": [
    {
     "name": "stdout",
     "output_type": "stream",
     "text": [
      "The first three items in Food List are ['Biryani', 'Karahi', 'Nihari']\n",
      "\n",
      "Three items from the middle of Food List are ['Zinger', 'Pizza', 'Tikka']\n",
      "\n",
      "The last three items in the Food List are ['Qorma', 'Qeema', 'Kabab']\n"
     ]
    }
   ],
   "source": [
    "foods=['Biryani','Karahi','Nihari','Zinger','Pizza','Tikka','Qorma','Qeema','Kabab']\n",
    "\n",
    "print(f'The first three items in Food List are {foods[0:3]}\\n')\n",
    "print(f'Three items from the middle of Food List are {foods[3:6]}\\n')\n",
    "print(f'The last three items in the Food List are {foods[6:9]}')"
   ]
  },
  {
   "cell_type": "markdown",
   "metadata": {},
   "source": [
    "# Q8:"
   ]
  },
  {
   "cell_type": "markdown",
   "metadata": {},
   "source": [
    "### Start with your program from your last Question8.\n",
    "###### Make a copy of the list of foods, and call it friend_foods.\n",
    "###### Then, do the following:\n",
    "######    Add a new dish to the original list.\n",
    "######    Add a different dish to the list friend_foodss.\n",
    "######    Prove that you have two separate lists. \n",
    "###### Print the message, My favorite pizzas are: and then use a for loop to print the first list. \n",
    "###### Print the message,\n",
    "###### My friend’s favorite foods are:, and then use a for loop to print the second list.\n",
    "    \n",
    "##### NOTE: Make sure each new dish is stored in the appropriate list."
   ]
  },
  {
   "cell_type": "code",
   "execution_count": 5,
   "metadata": {},
   "outputs": [],
   "source": [
    "friend_foods = foods.copy()"
   ]
  },
  {
   "cell_type": "code",
   "execution_count": 6,
   "metadata": {},
   "outputs": [],
   "source": [
    "foods.append('Chargha')"
   ]
  },
  {
   "cell_type": "code",
   "execution_count": 8,
   "metadata": {},
   "outputs": [],
   "source": [
    "friend_foods.append('Haleem')"
   ]
  },
  {
   "cell_type": "code",
   "execution_count": 10,
   "metadata": {},
   "outputs": [
    {
     "name": "stdout",
     "output_type": "stream",
     "text": [
      "Biryani Karahi Nihari Zinger Pizza Tikka Qorma Qeema Kabab Chargha "
     ]
    }
   ],
   "source": [
    "for j in foods:\n",
    "    print(j, end = ' ')"
   ]
  },
  {
   "cell_type": "code",
   "execution_count": 11,
   "metadata": {},
   "outputs": [
    {
     "name": "stdout",
     "output_type": "stream",
     "text": [
      "Biryani Karahi Nihari Zinger Pizza Tikka Qorma Qeema Kabab Haleem "
     ]
    }
   ],
   "source": [
    "for k in friend_foods:\n",
    "    print(k, end = ' ')"
   ]
  },
  {
   "cell_type": "markdown",
   "metadata": {},
   "source": [
    "# Q9:"
   ]
  },
  {
   "cell_type": "markdown",
   "metadata": {},
   "source": [
    "Take a user input from console line.Store it in a variable called Alien_color.\n",
    "\n",
    "If the alien’s color is red, print a statement that the player just earned 5 points for shooting the alien.\n",
    "\n",
    "If the alien’s color isn’t green, print a statement that the player just earned 10 points.\n",
    "\n",
    "If the alien's color isn't red or green , print a statment :, Alien is no more....."
   ]
  },
  {
   "cell_type": "code",
   "execution_count": 15,
   "metadata": {},
   "outputs": [
    {
     "name": "stdout",
     "output_type": "stream",
     "text": [
      "Enter your ALIEN COLOR: green\n",
      "The player just earned 10 points.\n"
     ]
    }
   ],
   "source": [
    "Alien_color = input('Enter your ALIEN COLOR: ').lower()\n",
    "if Alien_color == 'red':\n",
    "    print('The player just earned 5 points for shooting the alien.')\n",
    "elif Alien_color == 'green':\n",
    "    print('The player just earned 10 points.')\n",
    "else:\n",
    "    print('Alien is no more.....')"
   ]
  },
  {
   "cell_type": "markdown",
   "metadata": {},
   "source": [
    "# Q10:"
   ]
  },
  {
   "cell_type": "markdown",
   "metadata": {},
   "source": [
    "Write an if-elif-else chain that determines a person’s\n",
    "stage of life. Set a value for the variable age, and then:\n",
    "    \n",
    "•\t If the person is less than 2 years old, print a message that the person is a baby.\n",
    "\n",
    "•\t If the person is at least 2 years old but less than 4, print a message that the person is a toddler.\n",
    "\n",
    "•\t If the person is at least 4 years old but less than 13, print a message that the person is a kid.\n",
    "\n",
    "•\t If the person is at least 13 years old but less than 20, print a message that the person is a teenager.\n",
    "\n",
    "•\t If the person is at least 20 years old but less than 65, print a message that the person is an adult.\n",
    "\n",
    "•\t If the person is age 65 or older, print a message that the person is an elder."
   ]
  },
  {
   "cell_type": "code",
   "execution_count": 23,
   "metadata": {},
   "outputs": [
    {
     "name": "stdout",
     "output_type": "stream",
     "text": [
      "Enter person's age: 3\n",
      "The person is a toddler.\n"
     ]
    }
   ],
   "source": [
    "age = int(input('Enter person\\'s age: '))\n",
    "\n",
    "if age >= 65:\n",
    "    print('The person is an elder.')\n",
    "elif age >= 20 and age < 65:\n",
    "    print('The person is an adult.')\n",
    "elif age >= 13 and age < 20:\n",
    "    print('The person is a teenager.')\n",
    "elif age >= 4 and age < 13:\n",
    "    print('The person is a kid.')\n",
    "elif age >= 2 and age < 4:\n",
    "    print('The person is a toddler.')\n",
    "else :\n",
    "    print('The person is a baby.')"
   ]
  },
  {
   "cell_type": "markdown",
   "metadata": {},
   "source": [
    "# Q11:"
   ]
  },
  {
   "cell_type": "markdown",
   "metadata": {},
   "source": [
    "Do the following to create a program that simulates how websites ensure that everyone has a unique username.\n",
    "\n",
    "•\t Make a list of five or more usernames called current_users.\n",
    "\n",
    "•\t Make another list of five usernames called new_users. \n",
    "Make sure one or two of the new usernames are also in the current_users list.\n",
    "\n",
    "•\t Loop through the new_users list to see if each new username has already been used. \n",
    "If it has, print a message that the person will need to enter a new username. \n",
    "If a username has not been used, print a message saying that the username is available.\n",
    "\n",
    "•\t Make sure your comparison is case insensitive. If 'John' has been used, 'JOHN' should not be accepted."
   ]
  },
  {
   "cell_type": "code",
   "execution_count": 42,
   "metadata": {},
   "outputs": [],
   "source": [
    "current_users = [x.lower() for x in ['zain','abdal','umair','EHTESHAM','hira','hania']]"
   ]
  },
  {
   "cell_type": "code",
   "execution_count": 43,
   "metadata": {},
   "outputs": [],
   "source": [
    "new_users = [y.lower() for y in ['ehtesham','sumair','abdal','nameera','umer','hania']]"
   ]
  },
  {
   "cell_type": "code",
   "execution_count": 44,
   "metadata": {},
   "outputs": [
    {
     "name": "stdout",
     "output_type": "stream",
     "text": [
      "zain **************\n",
      "User name is available.\n",
      "User name is available.\n",
      "User name is available.\n",
      "User name is available.\n",
      "User name is available.\n",
      "User name is available.\n",
      "abdal **************\n",
      "User name is available.\n",
      "User name is available.\n",
      "Enter a new user name.\n",
      "User name is available.\n",
      "User name is available.\n",
      "User name is available.\n",
      "umair **************\n",
      "User name is available.\n",
      "User name is available.\n",
      "User name is available.\n",
      "User name is available.\n",
      "User name is available.\n",
      "User name is available.\n",
      "ehtesham **************\n",
      "Enter a new user name.\n",
      "User name is available.\n",
      "User name is available.\n",
      "User name is available.\n",
      "User name is available.\n",
      "User name is available.\n",
      "hira **************\n",
      "User name is available.\n",
      "User name is available.\n",
      "User name is available.\n",
      "User name is available.\n",
      "User name is available.\n",
      "User name is available.\n",
      "hania **************\n",
      "User name is available.\n",
      "User name is available.\n",
      "User name is available.\n",
      "User name is available.\n",
      "User name is available.\n",
      "Enter a new user name.\n"
     ]
    }
   ],
   "source": [
    "for i in current_users:\n",
    "    print(****** i , end=' ')\n",
    "    print('**************')\n",
    "    for j in new_users:\n",
    "        if i == j:\n",
    "            print('Enter a new user name.')\n",
    "        else:\n",
    "            print('User name is available.')"
   ]
  },
  {
   "cell_type": "markdown",
   "metadata": {},
   "source": [
    "# Q12:"
   ]
  },
  {
   "cell_type": "markdown",
   "metadata": {},
   "source": [
    "Use a dictionary to store information about a person you know.\n",
    "Store their first name, last name, age, and the city in which they live. \n",
    "You should have keys such as first_name, last_name, age, and city. \n",
    "Print each piece of information stored in your dictionary"
   ]
  },
  {
   "cell_type": "code",
   "execution_count": 3,
   "metadata": {},
   "outputs": [],
   "source": [
    "persons_info = {'first_name':'umair','last_name':'ali','age':16,'city':'karachi'}"
   ]
  },
  {
   "cell_type": "code",
   "execution_count": 4,
   "metadata": {},
   "outputs": [
    {
     "name": "stdout",
     "output_type": "stream",
     "text": [
      "first_name :  umair\n",
      "last_name :  ali\n",
      "age :  16\n",
      "city :  karachi\n"
     ]
    }
   ],
   "source": [
    "for key,val in persons_info.items():\n",
    "    print (key, ': ',val)"
   ]
  },
  {
   "cell_type": "markdown",
   "metadata": {},
   "source": [
    "# Q13:"
   ]
  },
  {
   "cell_type": "markdown",
   "metadata": {},
   "source": [
    "Starts with your last question 12 , loop through the dictionary’s keys and values.\n",
    "When you’re sure that your loop works, add five more Python terms to your\n",
    "dictionary . When you run your program again, these new words and meanings\n",
    "should automatically be included in the output."
   ]
  },
  {
   "cell_type": "code",
   "execution_count": 48,
   "metadata": {},
   "outputs": [
    {
     "name": "stdout",
     "output_type": "stream",
     "text": [
      "first_name :  zain\n",
      "last_name :  siddiqui\n",
      "age :  25\n",
      "city :  karachi\n"
     ]
    }
   ],
   "source": [
    "for key,val in persons_info.items():\n",
    "    print (key, ': ',val)"
   ]
  },
  {
   "cell_type": "code",
   "execution_count": 57,
   "metadata": {},
   "outputs": [
    {
     "name": "stdout",
     "output_type": "stream",
     "text": [
      "first_name :  zain\n",
      "last_name :  siddiqui\n",
      "age :  25\n",
      "city :  karachi\n",
      "qualification :  Masters\n",
      "profession :  Masters\n",
      "experience :  3 years\n",
      "marital status :  single\n",
      "fav_sports :  cricket\n"
     ]
    }
   ],
   "source": [
    "persons_info['qualification'] = 'Masters'\n",
    "persons_info['profession'] = 'Masters'\n",
    "persons_info['experience'] = '3 years'\n",
    "persons_info['marital status'] = 'single'\n",
    "persons_info['fav_sports'] = 'cricket'\n",
    "\n",
    "for key,val in persons_info.items():\n",
    "    print (key, ': ',val)"
   ]
  },
  {
   "cell_type": "markdown",
   "metadata": {},
   "source": [
    "# Q14:"
   ]
  },
  {
   "cell_type": "markdown",
   "metadata": {},
   "source": [
    "Make a dictionary containing three major rivers and the country\n",
    "each river runs through. One key-value pair might be 'nile': 'egypt'.\n",
    "    \n",
    "    \n",
    "•\t Use a loop to print a sentence about each river, such as The Nile runs\n",
    "through Egypt.\n",
    "\n",
    "NOTE: use upper case through keys and values."
   ]
  },
  {
   "cell_type": "code",
   "execution_count": 66,
   "metadata": {},
   "outputs": [],
   "source": [
    "rivers =  {'NILE RIVER' : 'EGYPT', 'INDUS RIVER' : 'PAKISTAN' , 'AMAZON RIVER' : 'BRAZIL'}"
   ]
  },
  {
   "cell_type": "code",
   "execution_count": 68,
   "metadata": {},
   "outputs": [
    {
     "name": "stdout",
     "output_type": "stream",
     "text": [
      "NILE RIVER  runs through  EGYPT\n",
      "INDUS RIVER  runs through  PAKISTAN\n",
      "AMAZON RIVER  runs through  BRAZIL\n"
     ]
    }
   ],
   "source": [
    "for k,v in rivers.items():\n",
    "    print(k,' runs through ',v)"
   ]
  },
  {
   "cell_type": "markdown",
   "metadata": {},
   "source": [
    "# Q15:"
   ]
  },
  {
   "cell_type": "markdown",
   "metadata": {},
   "source": [
    "Make several dictionaries, where the name of each dictionary is the\n",
    "name of a pet. In each dictionary, include the kind of animal and the owner’s\n",
    "name. Store these dictionaries in a list called pets. Next, loop through your list\n",
    "and as you do print everything you know about each pet."
   ]
  },
  {
   "cell_type": "code",
   "execution_count": 74,
   "metadata": {},
   "outputs": [
    {
     "name": "stdout",
     "output_type": "stream",
     "text": [
      "{'parrot': 'zain', 'pigoen': 'umair'}\n",
      "{'cat': 'bilal', 'dog': 'abbas'}\n",
      "{'cow': 'tanvir', 'goat': 'talha'}\n",
      "\n",
      "***********\n",
      "\n",
      "parrot :  zain\n",
      "pigoen :  umair\n",
      "cat :  bilal\n",
      "dog :  abbas\n",
      "cow :  tanvir\n",
      "goat :  talha\n"
     ]
    }
   ],
   "source": [
    "pets=[{'parrot':'zain','pigoen':'umair'},{'cat':'bilal','dog':'abbas'},{'cow':'tanvir','goat':'talha'}]\n",
    "for k in pets:\n",
    "    print(k)\n",
    "\n",
    "print('\\n***********\\n')    \n",
    "    \n",
    "for k in pets:\n",
    "    for key,value in k.items():\n",
    "        print (key,': ',value)"
   ]
  },
  {
   "cell_type": "code",
   "execution_count": null,
   "metadata": {},
   "outputs": [],
   "source": []
  }
 ],
 "metadata": {
  "kernelspec": {
   "display_name": "Python 3",
   "language": "python",
   "name": "python3"
  },
  "language_info": {
   "codemirror_mode": {
    "name": "ipython",
    "version": 3
   },
   "file_extension": ".py",
   "mimetype": "text/x-python",
   "name": "python",
   "nbconvert_exporter": "python",
   "pygments_lexer": "ipython3",
   "version": "3.7.3"
  }
 },
 "nbformat": 4,
 "nbformat_minor": 2
}
