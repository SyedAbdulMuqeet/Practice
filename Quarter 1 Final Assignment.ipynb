{
 "cells": [
  {
   "cell_type": "markdown",
   "metadata": {},
   "source": [
    "# Question: 1"
   ]
  },
  {
   "cell_type": "code",
   "execution_count": 1,
   "metadata": {},
   "outputs": [
    {
     "name": "stdout",
     "output_type": "stream",
     "text": [
      "Enter the radius of circle:0.5\n",
      "Area of circle= 0.785\n"
     ]
    }
   ],
   "source": [
    "input_user = float(input(\"Enter the radius of circle:\"))\n",
    "user =3.14*input_user**2;\n",
    "print(\"Area of circle=\", user)"
   ]
  },
  {
   "cell_type": "markdown",
   "metadata": {},
   "source": [
    "# Question: 2"
   ]
  },
  {
   "cell_type": "code",
   "execution_count": 2,
   "metadata": {},
   "outputs": [
    {
     "name": "stdout",
     "output_type": "stream",
     "text": [
      "Enter a number:2\n",
      "Positive number entered\n",
      "Enter a number:3\n",
      "Positive number entered\n",
      "Enter a number:0\n",
      "Zero entered\n"
     ]
    }
   ],
   "source": [
    "for x in range(0,3):    \n",
    "    input_num = int(input(\"Enter a number:\"))\n",
    "    if input_num < 0:\n",
    "        print(\"Negative number entered\")\n",
    "    elif input_num > 0:\n",
    "        print(\"Positive number entered\")\n",
    "    elif input_num == 0:\n",
    "        print(\"Zero entered\")"
   ]
  },
  {
   "cell_type": "markdown",
   "metadata": {},
   "source": [
    "# Question: 3"
   ]
  },
  {
   "cell_type": "code",
   "execution_count": 3,
   "metadata": {},
   "outputs": [
    {
     "name": "stdout",
     "output_type": "stream",
     "text": [
      "Enter a number:4\n",
      "Enter a number:2\n",
      "Number 4 is completely divisible by 2.\n",
      "Enter a number:7\n",
      "Enter a number:4\n",
      "Number 7 is not completely divisible by 4.\n"
     ]
    }
   ],
   "source": [
    "for x in range(0,2):\n",
    "    input_num_1 = int(input(\"Enter a number:\"))\n",
    "    input_num_2 = int(input(\"Enter a number:\"))\n",
    "    if input_num_1 % input_num_2 == 0:\n",
    "        print('Number {} is completely divisible by {}.'.format(input_num_1 ,input_num_2))\n",
    "    else:\n",
    "        print('Number {} is not completely divisible by {}.'.format(input_num_1,input_num_2))"
   ]
  },
  {
   "cell_type": "markdown",
   "metadata": {},
   "source": [
    "# Question: 4"
   ]
  },
  {
   "cell_type": "code",
   "execution_count": 4,
   "metadata": {},
   "outputs": [
    {
     "name": "stdout",
     "output_type": "stream",
     "text": [
      "Enter Date in format dd-mm-yyyy : 12-5-2019\n",
      "Enter date in format dd-mm-yyyy : 26-6-2019\n",
      "There are 45 days in between 12-5-2019 and 26-6-2019\n"
     ]
    }
   ],
   "source": [
    "from datetime import date\n",
    "input_date1 = input(\"Enter Date in format dd-mm-yyyy : \")\n",
    "input_date2 = input(\"Enter date in format dd-mm-yyyy : \")\n",
    "day1 , month1 , year1 = map(int, input_date1.split(\"-\") )\n",
    "date1 = date(year1, month1, day1)\n",
    "day2 , month2 , year2 = map(int, input_date2.split(\"-\") )\n",
    "date2 = date(year2, month2, day2)\n",
    "difference = date2 - date1\n",
    "print(\"There are \" + str(difference.days) + \" days in between \" + input_date1 + \" and \" + input_date2)"
   ]
  },
  {
   "cell_type": "markdown",
   "metadata": {},
   "source": [
    "# Question: 5"
   ]
  },
  {
   "cell_type": "code",
   "execution_count": 5,
   "metadata": {},
   "outputs": [
    {
     "name": "stdout",
     "output_type": "stream",
     "text": [
      "Enter Radius of a Circle: 1\n",
      "The Volume of sphere is: 4.189\n"
     ]
    }
   ],
   "source": [
    "input_sphere = float(input(\"Enter Radius of a Circle: \"))\n",
    "v = 3.142\n",
    "volume = 4/3*v\n",
    "v_of_s = volume*input_sphere*input_sphere*input_sphere\n",
    "print(\"The Volume of sphere is:\",round(v_of_s,3))"
   ]
  },
  {
   "cell_type": "markdown",
   "metadata": {},
   "source": [
    "# Question: 6"
   ]
  },
  {
   "cell_type": "code",
   "execution_count": 6,
   "metadata": {},
   "outputs": [
    {
     "name": "stdout",
     "output_type": "stream",
     "text": [
      "Enter a string:Hi\n",
      "How many copies of String u need?:4\n",
      " 4 copies of Hi are. HiHiHiHi\n"
     ]
    }
   ],
   "source": [
    "user_string = input(\"Enter a string:\")\n",
    "copies = int(input(\"How many copies of String u need?:\"))\n",
    "if copies > 0:\n",
    "    print(' {1} copies of {0} are.'.format(user_string,copies),user_string*copies)\n",
    "else:\n",
    "    print(\"Try again\")"
   ]
  },
  {
   "cell_type": "markdown",
   "metadata": {},
   "source": [
    "# Question: 7"
   ]
  },
  {
   "cell_type": "code",
   "execution_count": 7,
   "metadata": {},
   "outputs": [
    {
     "name": "stdout",
     "output_type": "stream",
     "text": [
      "Enter a number:4\n",
      "4is even number\n",
      "Enter a number:7\n",
      "7is odd number\n"
     ]
    }
   ],
   "source": [
    "for x in range(0,2):\n",
    "    user_num = int(input(\"Enter a number:\"))\n",
    "    if user_num % 2 == 0:\n",
    "        print(str(user_num) + 'is even number')\n",
    "    else:\n",
    "        print(str(user_num) + 'is odd number')"
   ]
  },
  {
   "cell_type": "markdown",
   "metadata": {},
   "source": [
    "# Question: 8"
   ]
  },
  {
   "cell_type": "code",
   "execution_count": 9,
   "metadata": {},
   "outputs": [
    {
     "name": "stdout",
     "output_type": "stream",
     "text": [
      "Enter a Character : e\n",
      "e is a Vowel\n",
      "Enter a Character : s\n",
      "s is Not a Vowel\n"
     ]
    }
   ],
   "source": [
    "for x in range(0,2):\n",
    "    vowel = input('Enter a Character : ')\n",
    "    vowel = vowel.lower()\n",
    "    if vowel == 'a' or vowel == 'e' or vowel == 'i' or vowel == 'o' or vowel == 'u':\n",
    "        print(vowel + \" is a Vowel\")\n",
    "    else:\n",
    "        print(vowel + \" is Not a Vowel\")"
   ]
  },
  {
   "cell_type": "markdown",
   "metadata": {},
   "source": [
    "# Question: 9"
   ]
  },
  {
   "cell_type": "code",
   "execution_count": 10,
   "metadata": {},
   "outputs": [
    {
     "name": "stdout",
     "output_type": "stream",
     "text": [
      "Enter base of a triangle:20\n",
      "Enter height of a triangle:40\n",
      "Area of a triangle with base and height= 400\n"
     ]
    }
   ],
   "source": [
    "Base = int(input(\"Enter base of a triangle:\"))\n",
    "Height = int(input(\"Enter height of a triangle:\"))\n",
    "Area = Base*Height//2;\n",
    "print(\"Area of a triangle with base and height=\",Area)"
   ]
  },
  {
   "cell_type": "markdown",
   "metadata": {},
   "source": [
    "# Question: 10"
   ]
  },
  {
   "cell_type": "code",
   "execution_count": 11,
   "metadata": {},
   "outputs": [
    {
     "name": "stdout",
     "output_type": "stream",
     "text": [
      "Enter principal amount:1000\n",
      "Enter rate interest in %:0.1\n",
      "Enter year of investment:5\n",
      "After 0.1 years your principal amount 5 over an interest rate of 1000 will be 1610.5\n"
     ]
    }
   ],
   "source": [
    "Amount = int(input(\"Enter principal amount:\"))\n",
    "rate_of_interest = float(input(\"Enter rate interest in %:\"))\n",
    "invested_year = int(input(\"Enter year of investment:\"))\n",
    "rate = 0.1 * 100\n",
    "interest_rate = Amount * ((1+ (10/100)) ** invested_year)\n",
    "interested_rate = round(interest_rate,1)\n",
    "print('After {2} years your principal amount {0} over an interest rate of {1} will be {3}'.format(invested_year, Amount,rate_of_interest ,interested_rate))"
   ]
  },
  {
   "cell_type": "markdown",
   "metadata": {},
   "source": [
    "# Question: 11"
   ]
  },
  {
   "cell_type": "code",
   "execution_count": 12,
   "metadata": {},
   "outputs": [
    {
     "name": "stdout",
     "output_type": "stream",
     "text": [
      "Enter co-ordinate for X1:2\n",
      "Enter co-ordinate for X2:4\n",
      "Enter co-ordinate for Y1:4\n",
      "Enter co-ordinate for Y2:4\n",
      "Distance between points 2,4 and 4,4 is 2.0\n"
     ]
    }
   ],
   "source": [
    "import math\n",
    "x1 = int(input(\"Enter co-ordinate for X1:\"))\n",
    "x2 = int(input(\"Enter co-ordinate for X2:\"))\n",
    "y1 = int(input(\"Enter co-ordinate for Y1:\"))\n",
    "y2 = int(input(\"Enter co-ordinate for Y2:\"))\n",
    "Dis = math.sqrt(pow(x2-x1,2) + pow(y2-y1,2))\n",
    "print('Distance between points {0},{1} and {2},{3} is {4}'.format(x1, x2, y1, y2, Dis))"
   ]
  },
  {
   "cell_type": "markdown",
   "metadata": {},
   "source": [
    "# Question: 12"
   ]
  },
  {
   "cell_type": "code",
   "execution_count": 13,
   "metadata": {},
   "outputs": [
    {
     "name": "stdout",
     "output_type": "stream",
     "text": [
      "Enter value in feet : 5\n",
      "There are 152.4 in 5.0 feet\n"
     ]
    }
   ],
   "source": [
    "height = float(input(\"Enter value in feet : \"))\n",
    "cm = height * 30.48\n",
    "print(\"There are \" + str(cm) + \" in \" + str(height) + \" feet\")"
   ]
  },
  {
   "cell_type": "markdown",
   "metadata": {},
   "source": [
    "# Question: 13"
   ]
  },
  {
   "cell_type": "code",
   "execution_count": 14,
   "metadata": {},
   "outputs": [
    {
     "name": "stdout",
     "output_type": "stream",
     "text": [
      "Enter height in Cm:180\n",
      "Enter weight in Kg:75\n",
      "Your BMI is= 23.15\n"
     ]
    }
   ],
   "source": [
    "input_height = int(input(\"Enter height in Cm:\"))\n",
    "input_weight = int(input(\"Enter weight in Kg:\"))\n",
    "Height = input_height/100 \n",
    "BMI    = input_weight/Height**2\n",
    "BMI1   = round(BMI,2)\n",
    "print(\"Your BMI is=\",BMI1)"
   ]
  },
  {
   "cell_type": "markdown",
   "metadata": {},
   "source": [
    "# Question: 14"
   ]
  },
  {
   "cell_type": "code",
   "execution_count": 15,
   "metadata": {},
   "outputs": [
    {
     "name": "stdout",
     "output_type": "stream",
     "text": [
      "Enter Value for n : 5\n",
      "Sum of n posotive integers till 5 is 15\n"
     ]
    }
   ],
   "source": [
    "n_value = int(input(\"Enter Value for n : \"))\n",
    "n_ans = 0\n",
    "for x in range(0,n_value+1):\n",
    "    n_ans += x\n",
    "print(\"Sum of n posotive integers till \" + str(n_value) + \" is \" + str(n_ans))"
   ]
  },
  {
   "cell_type": "markdown",
   "metadata": {},
   "source": [
    "# Question: 15"
   ]
  },
  {
   "cell_type": "code",
   "execution_count": 16,
   "metadata": {},
   "outputs": [
    {
     "name": "stdout",
     "output_type": "stream",
     "text": [
      "Enter a number : 15\n",
      "6\n",
      "Enter a number : 1234\n",
      "10\n"
     ]
    }
   ],
   "source": [
    "for y in range(0,2):\n",
    "    sum_digits = int(input(\"Enter a number : \"))\n",
    "    check_length_sum_digits = str(sum_digits)\n",
    "    len_list=[]\n",
    "    for x in range(0,len(check_length_sum_digits)):\n",
    "        a=int(check_length_sum_digits[x])\n",
    "        len_list.append(a)\n",
    "    print(sum(len_list))"
   ]
  },
  {
   "cell_type": "markdown",
   "metadata": {},
   "source": [
    "# Question: 16"
   ]
  },
  {
   "cell_type": "code",
   "execution_count": 17,
   "metadata": {},
   "outputs": [
    {
     "name": "stdout",
     "output_type": "stream",
     "text": [
      "Enter Integer Value : 5\n",
      "101\n",
      "Enter Integer Value : 32\n",
      "100000\n"
     ]
    }
   ],
   "source": [
    "for x in range(0,2):\n",
    "    int_value = int(input(\"Enter Integer Value : \"))\n",
    "    converted = chr(int_value)\n",
    "    print(bin(int_value).replace('0b', ''))"
   ]
  },
  {
   "cell_type": "markdown",
   "metadata": {},
   "source": [
    "# Question: 17"
   ]
  },
  {
   "cell_type": "code",
   "execution_count": 18,
   "metadata": {},
   "outputs": [
    {
     "name": "stdout",
     "output_type": "stream",
     "text": [
      "Enter binary : 1101\n",
      "13\n",
      "Enter binary : 1001\n",
      "9\n"
     ]
    }
   ],
   "source": [
    "for x in range(0,2):\n",
    "    bin_value= input(\"Enter binary : \")\n",
    "    print(int(bin_value,2))"
   ]
  },
  {
   "cell_type": "markdown",
   "metadata": {},
   "source": [
    "# Question: 18"
   ]
  },
  {
   "cell_type": "code",
   "execution_count": 19,
   "metadata": {},
   "outputs": [
    {
     "name": "stdout",
     "output_type": "stream",
     "text": [
      "Enter text : QuickBrownFoxJumpsOvertheDog\n",
      "vowel : 9\n",
      "Consonant : 19\n"
     ]
    }
   ],
   "source": [
    "vowel_input1 = input(\"Enter text : \")\n",
    "vowel_input1 = vowel_input1.lower()\n",
    "vowel_count = 0\n",
    "consonant_count = 0\n",
    "for x in vowel_input1:\n",
    "    if x == 'a' or x == 'e' or x == 'i' or x == 'o' or x == 'u':\n",
    "        vowel_count += 1\n",
    "    else:\n",
    "        consonant_count += 1\n",
    "print(\"vowel : \" + str(vowel_count))\n",
    "print(\"Consonant : \" +str(consonant_count))"
   ]
  },
  {
   "cell_type": "markdown",
   "metadata": {},
   "source": [
    "# Question: 19"
   ]
  },
  {
   "cell_type": "code",
   "execution_count": 20,
   "metadata": {},
   "outputs": [
    {
     "name": "stdout",
     "output_type": "stream",
     "text": [
      "Enter palandrom text : AHA\n",
      "AHA is palandrom \n",
      "Enter palandrom text : Hello\n",
      "Hello is NOT palandrom\n"
     ]
    }
   ],
   "source": [
    "for y in range(0,2):\n",
    "    palandrom_input = input(\"Enter palandrom text : \")\n",
    "    palandrom = \"\"\n",
    "    for x in range(len(palandrom_input)-1,-1,-1):\n",
    "        palandrom += palandrom_input[x]\n",
    "    if palandrom == palandrom_input:\n",
    "        print(palandrom_input + \" is palandrom \")\n",
    "    else:\n",
    "        print(palandrom_input + \" is NOT palandrom\")"
   ]
  },
  {
   "cell_type": "markdown",
   "metadata": {},
   "source": [
    "# Question: 20"
   ]
  },
  {
   "cell_type": "code",
   "execution_count": 22,
   "metadata": {},
   "outputs": [
    {
     "name": "stdout",
     "output_type": "stream",
     "text": [
      "Enter text : python 3.2\n",
      "Numbers : 2\n",
      "Alphabets : 6\n",
      "Special Character : 1\n",
      "Spaces : 1\n"
     ]
    }
   ],
   "source": [
    "input3 = input(\"Enter text : \")\n",
    "no = 0\n",
    "alphabet = 0\n",
    "special = 0\n",
    "space = 0\n",
    "for x in input3:\n",
    "    y = ord(x)\n",
    "    if (y >= 65 and y <= 90) or (y >= 97 and y <= 122):\n",
    "        alphabet += 1\n",
    "    elif y >= 48 and y <= 67:\n",
    "        no += 1\n",
    "    elif (y >= 33 and y <= 47) or (y >= 58 and y <= 64) or (y >= 91 and y <= 96) or (y >= 123 and y <= 126):\n",
    "        special += 1\n",
    "    elif y == 32:\n",
    "        space += 1\n",
    "print(\"Numbers : \" + str(no))\n",
    "print(\"Alphabets : \" + str(alphabet))\n",
    "print(\"Special Character : \" + str(special))\n",
    "print(\"Spaces : \" + str(space))"
   ]
  },
  {
   "cell_type": "markdown",
   "metadata": {},
   "source": [
    "# Question: 21"
   ]
  },
  {
   "cell_type": "code",
   "execution_count": 23,
   "metadata": {},
   "outputs": [
    {
     "name": "stdout",
     "output_type": "stream",
     "text": [
      "*\n",
      "**\n",
      "***\n",
      "****\n",
      "*****\n",
      "******\n",
      "*****\n",
      "****\n",
      "***\n",
      "**\n",
      "*\n",
      "\n"
     ]
    }
   ],
   "source": [
    "for i in range(0,6):\n",
    "    for j in range(0,i+1):\n",
    "        print('*',end='')\n",
    "    print()\n",
    "for k in range(i+1,0,-1):\n",
    "    for l in range(0,k-1):\n",
    "        print('*',end='')\n",
    "    print()"
   ]
  },
  {
   "cell_type": "markdown",
   "metadata": {},
   "source": [
    "# Question: 22"
   ]
  },
  {
   "cell_type": "code",
   "execution_count": 24,
   "metadata": {},
   "outputs": [
    {
     "name": "stdout",
     "output_type": "stream",
     "text": [
      "1\n",
      "12\n",
      "123\n",
      "1234\n",
      "12345\n",
      "1234\n",
      "123\n",
      "12\n",
      "1\n",
      "\n"
     ]
    }
   ],
   "source": [
    "for i in range(0,5):\n",
    "    num = 1\n",
    "    for j in range(0,i + 1):\n",
    "        print(num,end = '')\n",
    "        num += 1\n",
    "    print()   \n",
    "for k in range(i + 1,0,-1):\n",
    "    num = 1\n",
    "    for l in range(0,k-1):\n",
    "        print(num,end = '')\n",
    "        num += 1\n",
    "    print()"
   ]
  },
  {
   "cell_type": "markdown",
   "metadata": {},
   "source": [
    "# Question: 23"
   ]
  },
  {
   "cell_type": "code",
   "execution_count": 25,
   "metadata": {},
   "outputs": [
    {
     "name": "stdout",
     "output_type": "stream",
     "text": [
      "1\n",
      "22\n",
      "333\n",
      "4444\n",
      "55555\n",
      "666666\n",
      "7777777\n",
      "88888888\n",
      "999999999\n"
     ]
    }
   ],
   "source": [
    "num = 0\n",
    "for i in range(0,9):\n",
    "    num += 1\n",
    "    for j in range(0,i + 1):\n",
    "        print(num,end = '')\n",
    "        \n",
    "    print()"
   ]
  }
 ],
 "metadata": {
  "kernelspec": {
   "display_name": "Python 3",
   "language": "python",
   "name": "python3"
  },
  "language_info": {
   "codemirror_mode": {
    "name": "ipython",
    "version": 3
   },
   "file_extension": ".py",
   "mimetype": "text/x-python",
   "name": "python",
   "nbconvert_exporter": "python",
   "pygments_lexer": "ipython3",
   "version": "3.7.3"
  }
 },
 "nbformat": 4,
 "nbformat_minor": 2
}
