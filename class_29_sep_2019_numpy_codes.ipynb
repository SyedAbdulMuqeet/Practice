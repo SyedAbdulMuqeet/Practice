{
 "cells": [
  {
   "cell_type": "code",
   "execution_count": 5,
   "metadata": {},
   "outputs": [
    {
     "name": "stdout",
     "output_type": "stream",
     "text": [
      "<class 'numpy.ndarray'>\n",
      "['NumPy,' 'short' 'for' 'Numerical' 'Python,' 'is' 'one' 'of' 'the' 'most'] \n",
      " 117\n"
     ]
    }
   ],
   "source": [
    "import numpy as np\n",
    "text = \"\"\"NumPy, short for Numerical Python, is one of the most important foundational pack‐\n",
    "ages for numerical computing in Python. Most computational packages providing\n",
    "scientific functionality use NumPy’s array objects as the lingua franca for data\n",
    "exchange.\n",
    "Here are some of the things you’ll find in NumPy:\n",
    "• ndarray, an efficient multidimensional array providing fast array-oriented arith‐\n",
    "metic operations and flexible broadcasting capabilities.\n",
    "• Mathematical functions for fast operations on entire arrays of data without hav‐\n",
    "ing to write loops.\n",
    "• Tools for reading/writing array data to disk and working with memory-mapped\n",
    "files.\n",
    "• Linear algebra, random number generation, and Fourier transform capabilities.\n",
    "• A C API for connecting NumPy with libraries written in C, C++, or FORTRAN.\"\"\"\n",
    "nptext = np.array(text.split())\n",
    "print(type(nptext))\n",
    "print(nptext[:10], \"\\n\", len(nptext))"
   ]
  },
  {
   "cell_type": "code",
   "execution_count": 50,
   "metadata": {},
   "outputs": [
    {
     "name": "stdout",
     "output_type": "stream",
     "text": [
      "array [[[111 112 113]\n",
      "  [121 122 123]]\n",
      "\n",
      " [[211 212 213]\n",
      "  [221 222 224]]\n",
      "\n",
      " [[311 312 313]\n",
      "  [321 322 323]]\n",
      "\n",
      " [[411 412 413]\n",
      "  [421 422 423]]]\n",
      "size 24\n",
      "shape (4, 2, 3)\n",
      "dimensions 3\n",
      "[array([[111, 112, 113],\n",
      "       [121, 122, 123]]), array([[211, 212, 213],\n",
      "       [221, 222, 224]]), array([[311, 312, 313],\n",
      "       [321, 322, 323]]), array([[411, 412, 413],\n",
      "       [421, 422, 423]])]\n",
      "<class 'list'>\n"
     ]
    }
   ],
   "source": [
    "arr = np.arange(10)\n",
    "\n",
    "arr = np.arange(5,10)\n",
    "arr = np.array([-1, -2, 1 ,2, 4, -8], dtype=\"float\")\n",
    "#print(arr[:10])\n",
    "x = arr.shape\n",
    "#print(np.abs(arr) \n",
    "#rint(arr.shape, arr.dtype, arr.ndim)\n",
    "d3 = np.array([ [\n",
    "                  [111, 112, 113] , \n",
    "                  [121, 122, 123] \n",
    "                ],\n",
    "                [ \n",
    "                  [211, 212, 213] , \n",
    "                  [221, 222, 224] \n",
    "                ],\n",
    "                [\n",
    "                  [311, 312, 313], \n",
    "                  [321, 322, 323]\n",
    "                ],\n",
    "                [\n",
    "                  [411, 412, 413],\n",
    "                  [421, 422, 423] \n",
    "                ]\n",
    "              ])\n",
    "            \n",
    "             \n",
    "print(\"array\", d3)\n",
    "print(\"size\", d3.size)\n",
    "print(\"shape\", d3.shape)\n",
    "print(\"dimensions\", d3.ndim)\n",
    "x = list(d3)\n",
    "print(x\n",
    "print(type(x))\n"
   ]
  },
  {
   "cell_type": "code",
   "execution_count": 55,
   "metadata": {},
   "outputs": [
    {
     "name": "stdout",
     "output_type": "stream",
     "text": [
      "[  72 -270  402  534  204  -12  -12   36  -42   48]\n",
      "[  72 -270  402]\n"
     ]
    }
   ],
   "source": [
    "# vectorization\n",
    "arr = np.array([12,-45,67,89,34,-2,-2,6,-7,8])\n",
    "print(arr * 6) # scaler operation will propagte\n",
    "print(arr[:3] * 6)\n",
    "# in list we can not do that\n",
    "#x =list(arr)\n",
    "#print(x * 6)\n"
   ]
  },
  {
   "cell_type": "code",
   "execution_count": 64,
   "metadata": {},
   "outputs": [
    {
     "name": "stdout",
     "output_type": "stream",
     "text": [
      "[[ 8 10 12]\n",
      " [ 8 16 12]]\n",
      "d array [4 3 2]\n",
      "(2, 3) (3,)\n",
      "[[12 13 14]\n",
      " [12 19 14]]\n",
      "[[False False False]\n",
      " [ True False  True]]\n"
     ]
    }
   ],
   "source": [
    "# equal array operations\n",
    "a = np.array([[1,2,3],[4,5,6]])\n",
    "b = np.array([[7,8,9],[4,11,6]])\n",
    "\n",
    "c = a + b\n",
    "print(c)\n",
    "\n",
    "# broadcasting (row size should be same)\n",
    "d = np.array([4,3,2])\n",
    "print(\"d array\", d)\n",
    "print(c.shape, d.shape)\n",
    "print(c + d)\n"
   ]
  },
  {
   "cell_type": "code",
   "execution_count": 88,
   "metadata": {},
   "outputs": [
    {
     "name": "stdout",
     "output_type": "stream",
     "text": [
      "[[ True  True  True]\n",
      " [ True False  True]]\n",
      "[ 8 10 12  8 12]\n"
     ]
    }
   ],
   "source": [
    "a = np.array([[1,2,3],[4,5,6]])\n",
    "b = np.array([[7,8,9],[4,11,6]])\n",
    "\n",
    "# comparing array will return boolean array\n",
    "# we can use boolean array for filtering data\n",
    "boolean_e = (a == b)\n",
    "c = a + b\n",
    "x = 15\n",
    "boolean_e = c < 15\n",
    "print(boolean_e)\n",
    "# filtering data using boolean array\n",
    "cFilter  = c[boolean_e]\n",
    "# direct filter instead of boolean array\n",
    "cFilter  = c[c < 15]\n",
    "\n",
    "print(cFilter)"
   ]
  },
  {
   "cell_type": "code",
   "execution_count": 93,
   "metadata": {},
   "outputs": [
    {
     "name": "stdout",
     "output_type": "stream",
     "text": [
      "False\n"
     ]
    }
   ],
   "source": [
    "age = 10\n",
    "x = age < 10\n",
    "print(age < 10)\n"
   ]
  },
  {
   "cell_type": "code",
   "execution_count": 115,
   "metadata": {},
   "outputs": [
    {
     "name": "stdout",
     "output_type": "stream",
     "text": [
      "34\n",
      "[-45  34  -2]\n",
      "[-45  34  -2]\n",
      "[67 89 34]\n",
      "\n",
      "\n",
      "slicing\n",
      "[[ 6]\n",
      " [61]]\n"
     ]
    }
   ],
   "source": [
    "# indexing and fancy indexing\n",
    "arr = np.array([12,-45,67,89,34,-2,-2,6,-7,8])\n",
    "print(arr[4]) # indexing\n",
    "# fancy indexing\n",
    "ind = [1, 4, 6]\n",
    "print(arr[ ind ])\n",
    "print(arr [[1, 4, 6] ])\n",
    "# slicing\n",
    "print(arr [2:5 ])\n",
    "# slicing in two diminesion\n",
    "print(\"\\n\\nslicing\")\n",
    "a = np.array([[1,2,3],[4,5,6], [41,51,61], [42,52,62]])\n",
    "print(a[1:3, 2:3, ])"
   ]
  },
  {
   "cell_type": "code",
   "execution_count": 111,
   "metadata": {},
   "outputs": [
    {
     "name": "stdout",
     "output_type": "stream",
     "text": [
      "[12 45 67 89 34  2  2  6  7  8]\n"
     ]
    }
   ],
   "source": [
    "# element wise operation\n",
    "arr = np.array([12,-45,67,89,34,-2,-2,6,-7,8])\n",
    "print(np.abs(arr))\n"
   ]
  }
 ],
 "metadata": {
  "kernelspec": {
   "display_name": "Python 3",
   "language": "python",
   "name": "python3"
  },
  "language_info": {
   "codemirror_mode": {
    "name": "ipython",
    "version": 3
   },
   "file_extension": ".py",
   "mimetype": "text/x-python",
   "name": "python",
   "nbconvert_exporter": "python",
   "pygments_lexer": "ipython3",
   "version": "3.6.5"
  }
 },
 "nbformat": 4,
 "nbformat_minor": 2
}
