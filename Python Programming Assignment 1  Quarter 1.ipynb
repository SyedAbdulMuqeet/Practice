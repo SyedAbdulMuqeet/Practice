{
 "cells": [
  {
   "cell_type": "code",
   "execution_count": 30,
   "metadata": {},
   "outputs": [
    {
     "name": "stdout",
     "output_type": "stream",
     "text": [
      "Enter Radius : 0.5\n",
      "Area of a Circle with radius 0.5 is 0.785\n"
     ]
    }
   ],
   "source": [
    "#Q1\n",
    "radius =  float(input(\"Enter Radius : \"))\n",
    "area = 3.14 * radius * radius\n",
    "print(\"Area of a Circle with radius \" + str(radius) + \" is \" + str(area))"
   ]
  },
  {
   "cell_type": "code",
   "execution_count": 9,
   "metadata": {},
   "outputs": [
    {
     "name": "stdout",
     "output_type": "stream",
     "text": [
      "Enter Number : -1\n",
      "Negative Number Entered \n",
      "\n",
      "Enter Number : 3\n",
      "Positive Number Entered \n",
      "\n",
      "Enter Number : 0\n",
      "Zero Entered \n",
      "\n"
     ]
    }
   ],
   "source": [
    "#Q2\n",
    "for x in range(0,3):\n",
    "    number = int(input(\"Enter Number : \"))\n",
    "    if number > 0:\n",
    "        print(\"Positive Number Entered \\n\")\n",
    "    elif number < 0:\n",
    "        print(\"Negative Number Entered \\n\")\n",
    "    else:\n",
    "        print(\"Zero Entered \\n\")"
   ]
  },
  {
   "cell_type": "code",
   "execution_count": 15,
   "metadata": {},
   "outputs": [
    {
     "name": "stdout",
     "output_type": "stream",
     "text": [
      "Enter numerator : 4\n",
      "Enter denominator : 2\n",
      "Number 4 is completely divisible by 2\n",
      "Enter numerator : 7\n",
      "Enter denominator : 4\n",
      "Number 7 is NOT completely divisible by 4\n"
     ]
    }
   ],
   "source": [
    "#Q3\n",
    "for x in range(0,2):\n",
    "    numerator = int(input(\"Enter numerator : \"))\n",
    "    denominator = int(input(\"Enter denominator : \"))\n",
    "    if (numerator % denominator) == 0:\n",
    "        print(\"Number \" +str(numerator) + \" is completely divisible by \" + str(denominator))\n",
    "    else:\n",
    "        print(\"Number \" +str(numerator) + \" is NOT completely divisible by \" + str(denominator))b"
   ]
  },
  {
   "cell_type": "code",
   "execution_count": 8,
   "metadata": {},
   "outputs": [
    {
     "name": "stdout",
     "output_type": "stream",
     "text": [
      "Enter Date in format dd-mm-yyyy : 12-12-2018\n",
      "Enter date in format dd-mm-yyyy : 16-12-2018\n",
      "There are 4 days in between 12-12-2018 and 16-12-2018\n"
     ]
    }
   ],
   "source": [
    "#Q4\n",
    "from datetime import date\n",
    "date_input1= input(\"Enter Date in format dd-mm-yyyy : \")\n",
    "date_input2= input(\"Enter date in format dd-mm-yyyy : \")\n",
    "day1 , month1 , year1 = map(int, date_input1.split(\"-\") )\n",
    "date1= date(year1, month1, day1)\n",
    "day2 , month2 , year2 = map(int, date_input2.split(\"-\") )\n",
    "date2= date(year2, month2, day2)\n",
    "difference = date2 - date1\n",
    "print(\"There are \" + str(difference.days) + \" days in between \" + date_input1 + \" and \" + date_input2)"
   ]
  },
  {
   "cell_type": "code",
   "execution_count": 35,
   "metadata": {},
   "outputs": [
    {
     "name": "stdout",
     "output_type": "stream",
     "text": [
      "Enter Sphere Radius : 1\n",
      "Volume of sphere with radius is 1.0 is 4.187\n"
     ]
    }
   ],
   "source": [
    "#Q5\n",
    "sphere_radius = float(input(\"Enter Sphere Radius : \"))\n",
    "s_area = (4/3) * 3.14 * (sphere_radius ** 3)#radius ^ 3\n",
    "print(\"Volume of sphere with radius is \" + str(sphere_radius) + \" is \"+ str(round(s_area,3)))"
   ]
  },
  {
   "cell_type": "code",
   "execution_count": 16,
   "metadata": {},
   "outputs": [
    {
     "name": "stdout",
     "output_type": "stream",
     "text": [
      "Enter String : Hi\n",
      "Enter no of Strings you need : 4\n",
      "4 Copies of Hi are HiHiHiHi\n"
     ]
    }
   ],
   "source": [
    "#Q6\n",
    "copy_string = input(\"Enter String : \")\n",
    "no_of_copies = int(input(\"Enter no of Strings you need : \"))\n",
    "copies_string = copy_string\n",
    "for x in range(1,no_of_copies):\n",
    "    copies_string+=copy_string\n",
    "print(str(no_of_copies) + \" Copies of \" + copy_string + \" are \" + copies_string)"
   ]
  },
  {
   "cell_type": "code",
   "execution_count": 20,
   "metadata": {},
   "outputs": [
    {
     "name": "stdout",
     "output_type": "stream",
     "text": [
      "Enter Numebr : 4\n",
      "4 is Even\n",
      "Enter Numebr : 9\n",
      "9 is Odd\n"
     ]
    }
   ],
   "source": [
    "#Q7\n",
    "for x in range(0,2):\n",
    "    EO = int(input(\"Enter Numebr : \"))\n",
    "    if EO % 2 == 0 :\n",
    "        print(str(EO) + \" is Even\")\n",
    "    else:\n",
    "        print(str(EO) + \" is Odd\")"
   ]
  },
  {
   "cell_type": "code",
   "execution_count": 28,
   "metadata": {},
   "outputs": [
    {
     "name": "stdout",
     "output_type": "stream",
     "text": [
      "Enter a Character : A\n",
      "a is a Vowel\n",
      "Enter a Character : e\n",
      "e is a Vowel\n",
      "Enter a Character : N\n",
      "n is Not a Vowel\n"
     ]
    }
   ],
   "source": [
    "#Q8\n",
    "for x in range(0,3):\n",
    "    vowel = input('Enter a Character : ')\n",
    "    vowel = vowel.lower()\n",
    "    if vowel=='a' or vowel=='e' or vowel=='i' or vowel=='o' or vowel=='u':\n",
    "        print(vowel + \" is a Vowel\")\n",
    "    else:\n",
    "        print(vowel + \" is Not a Vowel\")"
   ]
  },
  {
   "cell_type": "code",
   "execution_count": 34,
   "metadata": {},
   "outputs": [
    {
     "name": "stdout",
     "output_type": "stream",
     "text": [
      "Enter base value : 4\n",
      "Enter height value : 4\n",
      "Area of tirangle with base 4.0 and height 4.0 is 8.0\n"
     ]
    }
   ],
   "source": [
    "#Q9\n",
    "base = float(input(\"Enter base value : \"))\n",
    "height = float(input(\"Enter height value : \"))\n",
    "triangle_area = 0.5 * (base*height)\n",
    "print(\"Area of tirangle with base \" + str(base) + \" and height \"+ str(height) + \" is \" + str(triangle_area))\n"
   ]
  },
  {
   "cell_type": "code",
   "execution_count": 41,
   "metadata": {},
   "outputs": [
    {
     "name": "stdout",
     "output_type": "stream",
     "text": [
      "Enter Principle ammount : 10000\n",
      "Enter interest rate in % : 0.1\n",
      "Enter no of years for investment : 5\n",
      "After 5 your principle ammount 10000 over and interest rate of 0.1 will be : 16105.1\n"
     ]
    }
   ],
   "source": [
    "#Q10\n",
    "principle_ammount = int(input(\"Enter Principle ammount : \"))\n",
    "interest_rate = float(input(\"Enter interest rate in % : \"))\n",
    "no_of_years = int(input(\"Enter no of years for investment : \"))\n",
    "future_value = principle_ammount*((1+interest_rate)**no_of_years)\n",
    "print(\"After \" + str(no_of_years) + \" your principle ammount \" + str(principle_ammount) + \" over and interest rate of \" \n",
    "      + str(interest_rate) + \" will be : \" + str(round(future_value,1)))"
   ]
  },
  {
   "cell_type": "code",
   "execution_count": 52,
   "metadata": {},
   "outputs": [
    {
     "name": "stdout",
     "output_type": "stream",
     "text": [
      "Enter value for x1 : 2\n",
      "Enter value for x2 : 4\n",
      "Enter value for y1 : 4\n",
      "Enter value for y2 : 4\n",
      "The distance between points (2,4) and (4,4) is 2.0\n"
     ]
    }
   ],
   "source": [
    "#Q11\n",
    "x1 = int(input(\"Enter value for x1 : \"))\n",
    "x2 = int(input(\"Enter value for x2 : \"))\n",
    "y1 = int(input(\"Enter value for y1 : \"))\n",
    "y2 = int(input(\"Enter value for y2 : \"))\n",
    "distance_points = math.sqrt(((x2-x1)**2)+ ((y2-y1)**2))\n",
    "print(\"The distance between points (\" + str(x1)+\",\" + str(y1) + \") and (\"+ str(x2)+ \",\" + str(y2) + \") is \" + str(distance_points))"
   ]
  },
  {
   "cell_type": "code",
   "execution_count": 54,
   "metadata": {},
   "outputs": [
    {
     "name": "stdout",
     "output_type": "stream",
     "text": [
      "Enter value in feet : 5\n",
      "There are 152.4 in 5.0 feet\n"
     ]
    }
   ],
   "source": [
    "#Q12\n",
    "feet = float(input(\"Enter value in feet : \"))\n",
    "cm = feet * 30.48\n",
    "print(\"There are \" + str(cm) + \" in \" + str(feet) + \" feet\")"
   ]
  },
  {
   "cell_type": "code",
   "execution_count": 68,
   "metadata": {},
   "outputs": [
    {
     "name": "stdout",
     "output_type": "stream",
     "text": [
      "Enter weight in kg : 75\n",
      "Enter height in cm : 180\n",
      "BMI is : 23.148148148148145\n"
     ]
    }
   ],
   "source": [
    "#Q13\n",
    "body_weight = int(input(\"Enter weight in kg : \"))\n",
    "body_height = int(input(\"Enter height in cm : \"))\n",
    "bmi = body_weight / ((body_height/100) ** 2)\n",
    "print(\"BMI is : \"+str(bmi))"
   ]
  },
  {
   "cell_type": "code",
   "execution_count": 73,
   "metadata": {},
   "outputs": [
    {
     "name": "stdout",
     "output_type": "stream",
     "text": [
      "Enter Value for n : 5\n",
      "Sum of n posotive integers till 5 is 15\n"
     ]
    }
   ],
   "source": [
    "#Q14\n",
    "n_value = int(input(\"Enter Value for n : \"))\n",
    "n_ans=0\n",
    "for x in range(0,n_value+1):\n",
    "    n_ans+=x\n",
    "print(\"Sum of n posotive integers till \"+ str(n_value) + \" is \" + str(n_ans))"
   ]
  },
  {
   "cell_type": "code",
   "execution_count": 86,
   "metadata": {},
   "outputs": [
    {
     "name": "stdout",
     "output_type": "stream",
     "text": [
      "Enter a number : 15\n",
      "6\n",
      "Enter a number : 1234\n",
      "10\n"
     ]
    }
   ],
   "source": [
    "#Q15\n",
    "for y in range(0,2):\n",
    "    sum_digits = int(input(\"Enter a number : \"))\n",
    "    check_length_sum_digits = str(sum_digits)\n",
    "    len_list=[]\n",
    "    for x in range(0,len(check_length_sum_digits)):\n",
    "        a=int(check_length_sum_digits[x])\n",
    "        len_list.append(a)\n",
    "    print(sum(len_list))"
   ]
  },
  {
   "cell_type": "code",
   "execution_count": 99,
   "metadata": {},
   "outputs": [
    {
     "name": "stdout",
     "output_type": "stream",
     "text": [
      "Enter Integer Value : 5\n",
      "101\n",
      "Enter Integer Value : 32\n",
      "100000\n"
     ]
    }
   ],
   "source": [
    "#Q16\n",
    "for x in range(0,2):\n",
    "    int_value = int(input(\"Enter Integer Value : \"))\n",
    "    converted = chr(int_value)\n",
    "    print(bin(int_value).replace('0b', ''))"
   ]
  },
  {
   "cell_type": "code",
   "execution_count": 112,
   "metadata": {},
   "outputs": [
    {
     "name": "stdout",
     "output_type": "stream",
     "text": [
      "Enter binary : 1101\n",
      "13\n",
      "Enter binary : 1001\n",
      "9\n"
     ]
    }
   ],
   "source": [
    "#Q17\n",
    "for x in range(0,2):\n",
    "    bin_value= input(\"Enter binary : \")\n",
    "    print(int(bin_value,2))"
   ]
  },
  {
   "cell_type": "code",
   "execution_count": 114,
   "metadata": {},
   "outputs": [
    {
     "name": "stdout",
     "output_type": "stream",
     "text": [
      "Enter text : QuickBrownFoxJumpsovertheDog\n",
      "vowel : 9\n",
      "Consonant : 19\n"
     ]
    }
   ],
   "source": [
    "#Q18\n",
    "vowel_input1=input(\"Enter text : \")\n",
    "vowel_input1=vowel_input1.lower()\n",
    "vowel_count=0\n",
    "consonant_count=0\n",
    "for x in vowel_input1:\n",
    "    if x=='a' or x=='e' or x=='i' or x=='o' or x=='u':\n",
    "        vowel_count+=1\n",
    "    else:\n",
    "        consonant_count+=1\n",
    "print(\"vowel : \"+ str(vowel_count))\n",
    "print(\"Consonant : \"+str(consonant_count))"
   ]
  },
  {
   "cell_type": "code",
   "execution_count": 127,
   "metadata": {},
   "outputs": [
    {
     "name": "stdout",
     "output_type": "stream",
     "text": [
      "Enter palandrom text : AHA\n",
      "AHA is palandrom \n",
      "Enter palandrom text : Hello\n",
      "Hello is NOT palandrom\n"
     ]
    }
   ],
   "source": [
    "#Q19\n",
    "for y in range(0,2):\n",
    "    palandrom_input = input(\"Enter palandrom text : \")\n",
    "    palandrom=\"\"\n",
    "    for x in range(len(palandrom_input)-1,-1,-1):\n",
    "        palandrom+=palandrom_input[x]\n",
    "    if palandrom == palandrom_input:\n",
    "        print(palandrom_input + \" is palandrom \")\n",
    "    else:\n",
    "        print(palandrom_input + \" is NOT palandrom\")"
   ]
  },
  {
   "cell_type": "code",
   "execution_count": 132,
   "metadata": {},
   "outputs": [
    {
     "name": "stdout",
     "output_type": "stream",
     "text": [
      "Enter text : Python 3.2\n",
      "Numbers : 2\n",
      "Alphabets : 6\n",
      "Special Character : 1\n",
      "Spaces : 1\n"
     ]
    }
   ],
   "source": [
    "#Q20\n",
    "input3 = input(\"Enter text : \")\n",
    "no=0\n",
    "alphabet=0\n",
    "special=0\n",
    "space=0\n",
    "for x in input3:\n",
    "    y=ord(x)\n",
    "    if (y>=65 and y<=90) or (y>=97 and y<=122):\n",
    "        alphabet+=1\n",
    "    elif y>=48 and y<=67:\n",
    "        no+=1\n",
    "    elif (y>=33 and y<=47) or (y>=58 and y<=64) or (y>=91 and y<=96) or (y>=123 and y<=126):\n",
    "        special+=1\n",
    "    elif y==32:\n",
    "        space+=1\n",
    "print(\"Numbers : \"+str(no))\n",
    "print(\"Alphabets : \"+str(alphabet))\n",
    "print(\"Special Character : \"+str(special))\n",
    "print(\"Spaces : \"+str(space))"
   ]
  },
  {
   "cell_type": "code",
   "execution_count": 151,
   "metadata": {},
   "outputs": [
    {
     "name": "stdout",
     "output_type": "stream",
     "text": [
      "*\n",
      "**\n",
      "***\n",
      "****\n",
      "*****\n",
      "******\n",
      "*****\n",
      "****\n",
      "***\n",
      "**\n",
      "*\n",
      "\n"
     ]
    }
   ],
   "source": [
    "#Q21\n",
    "for i in range(0,6):\n",
    "    for j in range(0,i+1):\n",
    "        print('*',end='')\n",
    "    print()\n",
    "for k in range(i+1,0,-1):\n",
    "    for l in range(0,k-1):\n",
    "        print('*',end='')\n",
    "    print()"
   ]
  },
  {
   "cell_type": "code",
   "execution_count": 163,
   "metadata": {},
   "outputs": [
    {
     "name": "stdout",
     "output_type": "stream",
     "text": [
      "1\n",
      "12\n",
      "123\n",
      "1234\n",
      "12345\n",
      "1234\n",
      "123\n",
      "12\n",
      "1\n",
      "\n"
     ]
    }
   ],
   "source": [
    "#Q22\n",
    "for i in range(0,5):\n",
    "    num=1\n",
    "    for j in range(0,i+1):\n",
    "        print(num,end='')\n",
    "        num+=1\n",
    "    print()   \n",
    "for k in range(i+1,0,-1):\n",
    "    num=1\n",
    "    for l in range(0,k-1):\n",
    "        print(num,end='')\n",
    "        num+=1\n",
    "    print()"
   ]
  },
  {
   "cell_type": "code",
   "execution_count": 158,
   "metadata": {},
   "outputs": [
    {
     "name": "stdout",
     "output_type": "stream",
     "text": [
      "1\n",
      "22\n",
      "333\n",
      "4444\n",
      "55555\n",
      "666666\n",
      "7777777\n",
      "88888888\n",
      "999999999\n"
     ]
    }
   ],
   "source": [
    "#Q23\n",
    "num=0\n",
    "for i in range(0,9):\n",
    "    num+=1\n",
    "    for j in range(0,i+1):\n",
    "        print(num,end='')\n",
    "        \n",
    "    print()"
   ]
  }
 ],
 "metadata": {
  "kernelspec": {
   "display_name": "Python 3",
   "language": "python",
   "name": "python3"
  },
  "language_info": {
   "codemirror_mode": {
    "name": "ipython",
    "version": 3
   },
   "file_extension": ".py",
   "mimetype": "text/x-python",
   "name": "python",
   "nbconvert_exporter": "python",
   "pygments_lexer": "ipython3",
   "version": "3.7.3"
  }
 },
 "nbformat": 4,
 "nbformat_minor": 2
}
